{
 "cells": [
  {
   "cell_type": "code",
   "execution_count": 6,
   "metadata": {},
   "outputs": [],
   "source": [
    "import sys\n",
    "import os\n",
    "sys.path.append(os.getcwd()+\"/Sklearn-neat\")\n",
    "\n",
    "from matplotlib import pyplot as plt\n",
    "# from sklearn.datasets import make_classification\n",
    "from sklearn.metrics import classification_report\n",
    "from sklearn.model_selection import train_test_split\n",
    "from neuro_evolution import NEATClassifier\n",
    "from tensorflow.keras.datasets import cifar10\n",
    "from sklearn.preprocessing import OneHotEncoder\n",
    "from tensorflow.keras.utils import to_categorical\n",
    "import neat\n",
    "import numpy as np\n",
    "import cv2\n",
    "import logging\n",
    "from sklearn.model_selection import StratifiedShuffleSplit\n",
    "from io import StringIO \n",
    "import re\n",
    "import glob"
   ]
  },
  {
   "cell_type": "code",
   "execution_count": 2,
   "metadata": {},
   "outputs": [
    {
     "name": "stdout",
     "output_type": "stream",
     "text": [
      "Works :)\n"
     ]
    },
    {
     "data": {
      "text/plain": [
       "3.6666666666666665"
      ]
     },
     "execution_count": 2,
     "metadata": {},
     "output_type": "execute_result"
    }
   ],
   "source": [
    "neat.math_util.mean([5,2,4])"
   ]
  },
  {
   "cell_type": "code",
   "execution_count": 3,
   "metadata": {},
   "outputs": [],
   "source": [
    "class Capturing(list):\n",
    "    def __enter__(self):\n",
    "        self._stdout = sys.stdout\n",
    "        sys.stdout = self._stringio = StringIO()\n",
    "        return self\n",
    "    def __exit__(self, *args):\n",
    "        self.extend(self._stringio.getvalue().splitlines())\n",
    "        del self._stringio    # free up some memory\n",
    "        sys.stdout = self._stdout"
   ]
  },
  {
   "cell_type": "code",
   "execution_count": 4,
   "metadata": {},
   "outputs": [],
   "source": [
    "(x_train, y_train), (x_test, y_test) = cifar10.load_data()\n",
    "\n",
    "X = np.append(x_train,x_test).reshape(60000,32,32,3)\n",
    "y = np.append(y_train,y_test).reshape(60000,1)\n",
    "\n",
    "assert X.shape == (60000, 32, 32, 3)\n",
    "assert y.shape == (60000, 1)"
   ]
  },
  {
   "cell_type": "code",
   "execution_count": 5,
   "metadata": {},
   "outputs": [],
   "source": [
    "\n",
    "#Transform (50000, 32, 32, 3) to (50000, 32, 32) with grayscaling.\n",
    "# x_train = np.array([cv2.cvtColor(image, cv2.COLOR_BGR2GRAY) for image in x_train])\n",
    "# x_test = np.array([cv2.cvtColor(image, cv2.COLOR_BGR2GRAY) for image in x_test])\n",
    "\n",
    "#Preprocess the data\n",
    "X = X.astype('float32')\n",
    "X /= 255"
   ]
  },
  {
   "cell_type": "code",
   "execution_count": 7,
   "metadata": {},
   "outputs": [
    {
     "name": "stdout",
     "output_type": "stream",
     "text": [
      "TRAIN: [17432  5066 25917 31434  5889  7087 56127 46497 54838 13118 33782 28512\n",
      " 38014 53028 32631 13793 49293  2457 44180 39885 40153 44035 46225 43338\n",
      " 33202 39482  2128 54543 37306 36690 44010  8644 26694 46600 44534 49231\n",
      " 53793 26659  2884 51151 35761 18915 32094 57723 31921   315 47947 57014\n",
      "  9803 51523 23558  7921 25500  1995 36438 29828 32793 48012 21576 40350] TEST: [32677 25499 13322 54421 37416 13956 53315  4011 32347 59734 57975 53847]\n",
      "TRAIN: [47952 57896 50782  8625 57713  3980 54866 50276  3061   266 52340 26388\n",
      " 44081  1067  2839  9941 18845 38520 47962 12967  1116 49217  8068  2766\n",
      "  8846 11764 49442 27592 24336 46490 13274 38542 12250 42032 13748 15962\n",
      " 40459 15218 17681 53585 45268 38518 31407 52137 29921 49630 32317 32411\n",
      " 45431 31895 12326 11939 12721 16005 18455 18126 52302  9188 51270 55759] TEST: [35533 22018 15851 54629 16774 43213  3000 32448 10611 28107  9847 49370]\n",
      "TRAIN: [32519 26734 17164 27409 56918  5862  5960 44476 51532 26315 49076 27278\n",
      " 23669 33760 34041 33439 15030 54739 25474 24362 48540 29865 17319 59143\n",
      " 39234 49051 12795 40539  5485  7406 55642 37421  3923 44418 21925 41569\n",
      "   205  4986  4900 31259 31926 41884 29018  5816 56199 16808 46275 26885\n",
      " 11802 52045  2071 58605 31531 29083 52313 27196 33062 29626 32880 28548] TEST: [33449 45708 45025 41350 59217 16987 10335 41126 43247 36736 57557 21195]\n",
      "TRAIN: [24554 49864 20830 26241  6595  8199 57299  6864 32706 56636 24663 52952\n",
      "  1399 27349 40590 39319 29312 32684 50383 47597  4505 43252 30084 16155\n",
      "  3791 14630 48162 14188 26851 55907 19969 51499 29466 39848 24664 24428\n",
      " 16867 41132 44604   307 18953 18032 20755 17408  8385  8290 43584  1979\n",
      " 10472 30708  6112  3510 31344  4463 28445 52644 27346  1521 46827 36583] TEST: [45303  5939 32718 56732 45242   398 20971 59291 17368 35038 50112 49505]\n",
      "TRAIN: [10077  3150 17233  5134  6627 54935 47611 29330 27961 41701 53308 52766\n",
      " 59375 34055 31010 32948 19833 24219 12199 29999 18879 54666 27199 36601\n",
      " 11458 38988 33379  7133 38533 28571 51955 38962 27570 34952 24382  7341\n",
      " 40521 10524 58889   450 41359 29393  7889 23285 50918  1456 22706   919\n",
      " 20426 28789 19028 37557 10202 56272 53032 21462 24787  4491  8575 56688] TEST: [34320 10085 31480 37141 35626 55247 58751  5043 10690 16222 31080 25133]\n"
     ]
    }
   ],
   "source": [
    "sss = StratifiedShuffleSplit(n_splits=5, \n",
    "                             test_size=0.0002, \n",
    "                             train_size=0.001, \n",
    "                             random_state=0)\n",
    "\n",
    "for train_index, test_index in sss.split(X, y):\n",
    "    print(\"TRAIN:\", train_index, \"TEST:\", test_index)\n",
    "    X_train, X_test = X[train_index], X[test_index]\n",
    "    y_train, y_test = y[train_index], y[test_index]"
   ]
  },
  {
   "cell_type": "code",
   "execution_count": 8,
   "metadata": {},
   "outputs": [
    {
     "name": "stdout",
     "output_type": "stream",
     "text": [
      "(60, 32, 32, 3)\n",
      "(60, 1)\n",
      "---\n",
      "(12, 32, 32, 3)\n",
      "(12, 1)\n"
     ]
    }
   ],
   "source": [
    "print(X_train.shape)\n",
    "print(y_train.shape)\n",
    "\n",
    "print(\"---\")\n",
    "\n",
    "print(X_test.shape)\n",
    "print(y_test.shape)"
   ]
  },
  {
   "cell_type": "code",
   "execution_count": 9,
   "metadata": {},
   "outputs": [
    {
     "name": "stdout",
     "output_type": "stream",
     "text": [
      "*** Running generation 0 ***\n",
      "Fitness: 0.1\n",
      "Population's average fitness: 0.06667\n",
      "Standard deviation: 0.02789\n",
      "---\n",
      "Best fitness: 0.1\n",
      "---\n",
      "\n",
      "*** Running generation 1 ***\n",
      "Fitness: 0.11666666666666667\n",
      "Population's average fitness: 0.1\n",
      "Standard deviation: 0.02582\n",
      "---\n",
      "Best fitness: 0.11666666666666667\n",
      "---\n",
      "\n"
     ]
    }
   ],
   "source": [
    "def find_metric_in_output(output, string):    \n",
    "    result = re.findall(r\"\\b\"+string+r\" ([0-9]+\\.[0-9]+)\\b\", str(output))\n",
    "    result = np.array(result).astype('float')\n",
    "    result = result[0]\n",
    "    \n",
    "    return result\n",
    "\n",
    "X_train_fl = X_train.reshape((X_train.shape[0], -1))\n",
    "X_test_fl = X_test.reshape((X_test.shape[0], -1))\n",
    "\n",
    "clf = NEATClassifier(number_of_generations=1,\n",
    "                     fitness_threshold=0.1,\n",
    "                     pop_size=5)\n",
    "\n",
    "results = {}\n",
    "best_fitness = 0\n",
    "\n",
    "for i in range(2):\n",
    "    print(\"*** Running generation {} ***\".format(str(i)))\n",
    "    with Capturing() as output:\n",
    "        neat_genome = clf.fit(X_train_fl, y_train.ravel())\n",
    "        \n",
    "    curr_fitness = find_metric_in_output(output, \"Fitness:\")\n",
    "    curr_popavgfit = find_metric_in_output(output, \"Population's average fitness:\")\n",
    "    curr_stdev = find_metric_in_output(output, \"stdev:\")\n",
    "        \n",
    "    print(\"Fitness: {}\".format(curr_fitness))\n",
    "    print(\"Population's average fitness: {}\".format(curr_popavgfit))\n",
    "    print(\"Standard deviation: {}\".format(curr_stdev))\n",
    "\n",
    "    print(\"---\")\n",
    "    if curr_fitness > best_fitness:\n",
    "        best_fitness = curr_fitness\n",
    "        \n",
    "    print(\"Best fitness: {}\".format(best_fitness))\n",
    "    \n",
    "    results[i] = {\n",
    "        \"fitness\":curr_fitness,\n",
    "        \"pop_avg_fitness\":curr_popavgfit,\n",
    "        \"stdev\":curr_stdev   \n",
    "    }\n",
    "\n",
    "    print(\"---\\n\")"
   ]
  },
  {
   "cell_type": "code",
   "execution_count": 10,
   "metadata": {},
   "outputs": [],
   "source": [
    "y_pred = neat_genome.predict(X_test_fl)"
   ]
  },
  {
   "cell_type": "code",
   "execution_count": 11,
   "metadata": {},
   "outputs": [
    {
     "name": "stdout",
     "output_type": "stream",
     "text": [
      "              precision    recall  f1-score   support\n",
      "\n",
      "           0       0.00      0.00      0.00       2.0\n",
      "           1       0.00      0.00      0.00       1.0\n",
      "           2       0.00      0.00      0.00       1.0\n",
      "           3       0.00      0.00      0.00       1.0\n",
      "           4       0.00      0.00      0.00       1.0\n",
      "           5       0.00      0.00      0.00       1.0\n",
      "           6       0.00      0.00      0.00       1.0\n",
      "           7       0.00      0.00      0.00       1.0\n",
      "           8       0.00      0.00      0.00       2.0\n",
      "           9       0.00      0.00      0.00       1.0\n",
      "\n",
      "    accuracy                           0.00      12.0\n",
      "   macro avg       0.00      0.00      0.00      12.0\n",
      "weighted avg       0.00      0.00      0.00      12.0\n",
      "\n"
     ]
    },
    {
     "name": "stderr",
     "output_type": "stream",
     "text": [
      "/home/sram/radboud-naco-project/env/lib/python3.6/site-packages/sklearn/metrics/_classification.py:1248: UndefinedMetricWarning: Precision and F-score are ill-defined and being set to 0.0 in labels with no predicted samples. Use `zero_division` parameter to control this behavior.\n",
      "  _warn_prf(average, modifier, msg_start, len(result))\n",
      "/home/sram/radboud-naco-project/env/lib/python3.6/site-packages/sklearn/metrics/_classification.py:1248: UndefinedMetricWarning: Precision and F-score are ill-defined and being set to 0.0 in labels with no predicted samples. Use `zero_division` parameter to control this behavior.\n",
      "  _warn_prf(average, modifier, msg_start, len(result))\n",
      "/home/sram/radboud-naco-project/env/lib/python3.6/site-packages/sklearn/metrics/_classification.py:1248: UndefinedMetricWarning: Precision and F-score are ill-defined and being set to 0.0 in labels with no predicted samples. Use `zero_division` parameter to control this behavior.\n",
      "  _warn_prf(average, modifier, msg_start, len(result))\n"
     ]
    }
   ],
   "source": [
    "print(classification_report(y_test.ravel(), y_pred.ravel()))"
   ]
  },
  {
   "cell_type": "code",
   "execution_count": 12,
   "metadata": {},
   "outputs": [
    {
     "data": {
      "text/plain": [
       "dict_items([(0, {'fitness': 0.1, 'pop_avg_fitness': 0.06667, 'stdev': 0.02789}), (1, {'fitness': 0.11666666666666667, 'pop_avg_fitness': 0.1, 'stdev': 0.02582})])"
      ]
     },
     "execution_count": 12,
     "metadata": {},
     "output_type": "execute_result"
    }
   ],
   "source": [
    "results.items()"
   ]
  },
  {
   "cell_type": "code",
   "execution_count": 14,
   "metadata": {},
   "outputs": [
    {
     "data": {
      "text/plain": [
       "[]"
      ]
     },
     "execution_count": 14,
     "metadata": {},
     "output_type": "execute_result"
    },
    {
     "data": {
      "image/png": "[encoded data removed]",
      "text/plain": [
       "<Figure size 1080x576 with 1 Axes>"
      ]
     },
     "metadata": {
      "needs_background": "light"
     },
     "output_type": "display_data"
    }
   ],
   "source": [
    "fitness = [i['fitness'] for i in results.values()]\n",
    "pop_avg_fitness = [i['pop_avg_fitness'] for i in results.values()]\n",
    "\n",
    "fig,ax = plt.subplots(figsize=(15,8))\n",
    "\n",
    "plt.plot(np.linspace(1,len(fitness),len(fitness)),\n",
    "         fitness,\n",
    "         label=\"Fitness\")\n",
    "plt.plot(np.linspace(1,len(pop_avg_fitness),len(pop_avg_fitness)),\n",
    "         pop_avg_fitness,\n",
    "         label=\"Population's average fitness\")\n",
    "\n",
    "plt.xlabel(\"Generation\")\n",
    "plt.ylabel(\"Fitness\")\n",
    "\n",
    "plt.legend()\n",
    "\n",
    "plt.xticks(np.linspace(1,len(fitness),len(pop_avg_fitness)))\n",
    "\n",
    "plt.savefig(\"../figures/fitness.png\")\n",
    "\n",
    "plt.plot()"
   ]
  },
  {
   "cell_type": "code",
   "execution_count": 15,
   "metadata": {},
   "outputs": [
    {
     "data": {
      "text/plain": [
       "[]"
      ]
     },
     "execution_count": 15,
     "metadata": {},
     "output_type": "execute_result"
    },
    {
     "data": {
      "image/png": "[encoded data removed]",
      "text/plain": [
       "<Figure size 1080x576 with 1 Axes>"
      ]
     },
     "metadata": {
      "needs_background": "light"
     },
     "output_type": "display_data"
    }
   ],
   "source": [
    "stdev = [i['stdev'] for i in results.values()]\n",
    "\n",
    "fig,ax = plt.subplots(figsize=(15,8))\n",
    "\n",
    "plt.plot(np.linspace(1,len(stdev),len(stdev)),\n",
    "         stdev,\n",
    "         label=\"Standard deviation\")\n",
    "\n",
    "plt.xlabel(\"Generation\")\n",
    "plt.ylabel(\"Standard deviation\")\n",
    "\n",
    "plt.legend()\n",
    "\n",
    "plt.xticks(np.linspace(1,len(stdev),len(stdev)))\n",
    "\n",
    "plt.savefig(\"../figures/stdev.png\")\n",
    "\n",
    "plt.plot()"
   ]
  },
  {
   "cell_type": "code",
   "execution_count": null,
   "metadata": {},
   "outputs": [],
   "source": []
  }
 ],
 "metadata": {
  "kernelspec": {
   "display_name": "Python 3",
   "language": "python",
   "name": "python3"
  },
  "language_info": {
   "codemirror_mode": {
    "name": "ipython",
    "version": 3
   },
   "file_extension": ".py",
   "mimetype": "text/x-python",
   "name": "python",
   "nbconvert_exporter": "python",
   "pygments_lexer": "ipython3",
   "version": "3.6.9"
  }
 },
 "nbformat": 4,
 "nbformat_minor": 4
}
