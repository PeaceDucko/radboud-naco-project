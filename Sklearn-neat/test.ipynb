{
 "cells": [
  {
   "cell_type": "code",
   "execution_count": 1,
   "metadata": {},
   "outputs": [],
   "source": [
    "\"\"\"\n",
    "============================\n",
    "Plotting NEAT Classifier\n",
    "============================\n",
    "\n",
    "An example plot of :class:`neuro_evolution._neat.NEATClassifier`\n",
    "\"\"\"\n",
    "from matplotlib import pyplot as plt\n",
    "# from sklearn.datasets import make_classification\n",
    "from sklearn.metrics import classification_report\n",
    "from sklearn.model_selection import train_test_split\n",
    "from neuro_evolution import NEATClassifier\n",
    "from tensorflow.keras.datasets import cifar10\n",
    "from sklearn.preprocessing import OneHotEncoder\n",
    "from tensorflow.keras.utils import to_categorical\n",
    "import numpy as np\n",
    "import cv2\n",
    "import sys\n",
    "import logging\n",
    "from io import StringIO \n",
    "import re\n",
    "import glob\n",
    "import os\n",
    "from os.path import dirname, basename, isfile, join"
   ]
  },
  {
   "cell_type": "code",
   "execution_count": 2,
   "metadata": {},
   "outputs": [],
   "source": [
    "sys.path.append(os.getcwd()+\"/Sklearn-neat\")\n",
    "\n",
    "import neat\n",
    "from neat import math_util\n",
    "from neat.puissance import Puissance "
   ]
  },
  {
   "cell_type": "code",
   "execution_count": 3,
   "metadata": {},
   "outputs": [
    {
     "data": {
      "text/plain": [
       "3.6666666666666665"
      ]
     },
     "execution_count": 3,
     "metadata": {},
     "output_type": "execute_result"
    }
   ],
   "source": [
    "neat.math_util.mean([5,2,4])"
   ]
  },
  {
   "cell_type": "code",
   "execution_count": 4,
   "metadata": {},
   "outputs": [],
   "source": [
    "class Capturing(list):\n",
    "    def __enter__(self):\n",
    "        self._stdout = sys.stdout\n",
    "        sys.stdout = self._stringio = StringIO()\n",
    "        return self\n",
    "    def __exit__(self, *args):\n",
    "        self.extend(self._stringio.getvalue().splitlines())\n",
    "        del self._stringio    # free up some memory\n",
    "        sys.stdout = self._stdout"
   ]
  },
  {
   "cell_type": "code",
   "execution_count": 5,
   "metadata": {},
   "outputs": [],
   "source": [
    "(x_train, y_train), (x_test, y_test) = cifar10.load_data()\n",
    "\n",
    "X = np.append(x_train,x_test).reshape(60000,32,32,3)\n",
    "y = np.append(y_train,y_test).reshape(60000,1)\n",
    "\n",
    "assert X.shape == (60000, 32, 32, 3)\n",
    "assert y.shape == (60000, 1)"
   ]
  },
  {
   "cell_type": "code",
   "execution_count": 6,
   "metadata": {},
   "outputs": [],
   "source": [
    "\n",
    "#Transform (50000, 32, 32, 3) to (50000, 32, 32) with grayscaling.\n",
    "# x_train = np.array([cv2.cvtColor(image, cv2.COLOR_BGR2GRAY) for image in x_train])\n",
    "# x_test = np.array([cv2.cvtColor(image, cv2.COLOR_BGR2GRAY) for image in x_test])\n",
    "\n",
    "#Preprocess the data\n",
    "X = X.astype('float32')\n",
    "X /= 255"
   ]
  },
  {
   "cell_type": "code",
   "execution_count": 7,
   "metadata": {},
   "outputs": [
    {
     "name": "stdout",
     "output_type": "stream",
     "text": [
      "TRAIN: [48093  9803 26659 43338 44180 51523 18710 53793 39885 49231  9806  2128] TEST: [14856 15275 31434 47947 25917  5066   841 36690 57014 46225 56127 44327]\n",
      "TRAIN: [26388 43834 52340 18482  3061 26549 33849 16855 11320 49735  9188 47962] TEST: [ 9941 41405 12326 42032 16005 46627 54866 29921 49630 26332 21829 17770]\n",
      "TRAIN: [ 3717 41679 59177  3795 34353 53449 35354 17940 17588 59993 25303 59452] TEST: [57165 57427 10161 37000 36501  8154 21509 46268 44446  3328 58129 30380]\n",
      "TRAIN: [53109 36718 50230 10039 10029  9903  4721 37819  1440 20407  8474 52362] TEST: [30537 29262 51315 52585  7090 59817 33987 44205  4947 16192 37981 17929]\n",
      "TRAIN: [34368 13090 51681 58455  8036 11286  5697 15198 48070  6217 32912 13134] TEST: [ 3877 48548 17664 45418 41613 34458 51295 33566 15584 20466 11515 12843]\n"
     ]
    }
   ],
   "source": [
    "from sklearn.model_selection import StratifiedShuffleSplit\n",
    "\n",
    "sss = StratifiedShuffleSplit(n_splits=5, \n",
    "                             test_size=0.0002, \n",
    "                             train_size=0.0002, \n",
    "                             random_state=0)\n",
    "\n",
    "for train_index, test_index in sss.split(X, y):\n",
    "    print(\"TRAIN:\", train_index, \"TEST:\", test_index)\n",
    "    X_train, X_test = X[train_index], X[test_index]\n",
    "    y_train, y_test = y[train_index], y[test_index]"
   ]
  },
  {
   "cell_type": "code",
   "execution_count": 8,
   "metadata": {},
   "outputs": [
    {
     "name": "stdout",
     "output_type": "stream",
     "text": [
      "(12, 32, 32, 3)\n",
      "(12, 1)\n",
      "---\n",
      "(12, 32, 32, 3)\n",
      "(12, 1)\n"
     ]
    }
   ],
   "source": [
    "print(X_train.shape)\n",
    "print(y_train.shape)\n",
    "\n",
    "print(\"---\")\n",
    "\n",
    "print(X_test.shape)\n",
    "print(y_test.shape)"
   ]
  },
  {
   "cell_type": "code",
   "execution_count": null,
   "metadata": {
    "scrolled": true
   },
   "outputs": [
    {
     "name": "stdout",
     "output_type": "stream",
     "text": [
      "\n",
      " ****** Running generation 0 ****** \n",
      "\n"
     ]
    }
   ],
   "source": [
    "def find_metric_in_output(output, string):    \n",
    "    result = re.findall(r\"\\b\"+string+r\" ([0-9]+\\.[0-9]+)\\b\", str(output))\n",
    "    result = np.array(result).astype('float')\n",
    "    result = result[0]\n",
    "    \n",
    "    return result\n",
    "\n",
    "X_train_fl = X_train.reshape((X_train.shape[0], -1))\n",
    "X_test_fl = X_test.reshape((X_test.shape[0], -1))\n",
    "\n",
    "puissance_config = Puissance()\n",
    "\n",
    "clf = NEATClassifier(number_of_generations=3,\n",
    "                     fitness_threshold=0.5,\n",
    "                     pop_size=5,\n",
    "                     puissance_config = puissance_config)\n",
    "results = {}\n",
    "best_fitness = 0\n",
    "\n",
    "# print(\"*** Running generation {} ***\".format(str(i)))\n",
    "# with Capturing() as output:\n",
    "neat_genome = clf.fit(X_train_fl, y_train.ravel())\n",
    "\n",
    "#     curr_fitness = find_metric_in_output(output, \"Fitness:\")\n",
    "#     curr_popavgfit = find_metric_in_output(output, \"Population's average fitness:\")\n",
    "#     curr_stdev = find_metric_in_output(output, \"stdev:\")\n",
    "\n",
    "#     print(\"Fitness: {}\".format(curr_fitness))\n",
    "#     print(\"Population's average fitness: {}\".format(curr_popavgfit))\n",
    "#     print(\"Standard deviation: {}\".format(curr_stdev))\n",
    "\n",
    "# print(\"---\")\n",
    "# if curr_fitness > best_fitness:\n",
    "#     best_fitness = curr_fitness\n",
    "\n",
    "# print(\"Best fitness: {}\".format(best_fitness))\n",
    "\n",
    "# results[i] = {\n",
    "#     \"fitness\":curr_fitness,\n",
    "#     \"pop_avg_fitness\":curr_popavgfit,\n",
    "#     \"stdev\":curr_stdev\n",
    "# }\n",
    "    \n",
    "\n",
    "# print(\"---\\n\")"
   ]
  },
  {
   "cell_type": "code",
   "execution_count": null,
   "metadata": {},
   "outputs": [],
   "source": [
    "y_pred = neat_genome.predict(X_test_fl)"
   ]
  },
  {
   "cell_type": "code",
   "execution_count": null,
   "metadata": {},
   "outputs": [],
   "source": [
    "print(classification_report(y_test.ravel(), y_pred.ravel()))"
   ]
  },
  {
   "cell_type": "code",
   "execution_count": null,
   "metadata": {},
   "outputs": [],
   "source": [
    "results.items()"
   ]
  },
  {
   "cell_type": "code",
   "execution_count": null,
   "metadata": {},
   "outputs": [],
   "source": [
    "fitness = [i['fitness'] for i in results.values()]\n",
    "pop_avg_fitness = [i['pop_avg_fitness'] for i in results.values()]\n",
    "\n",
    "fig,ax = plt.subplots(figsize=(15,8))\n",
    "\n",
    "plt.plot(np.linspace(1,len(fitness),len(fitness)),\n",
    "         fitness,\n",
    "         label=\"Fitness\")\n",
    "plt.plot(np.linspace(1,len(pop_avg_fitness),len(pop_avg_fitness)),\n",
    "         pop_avg_fitness,\n",
    "         label=\"Population's average fitness\")\n",
    "\n",
    "plt.xlabel(\"Generation\")\n",
    "plt.ylabel(\"Fitness\")\n",
    "\n",
    "plt.legend()\n",
    "\n",
    "plt.xticks(np.linspace(1,len(fitness),len(pop_avg_fitness)))\n",
    "\n",
    "plt.savefig(\"figures/fitness.png\")\n",
    "\n",
    "plt.plot()"
   ]
  },
  {
   "cell_type": "code",
   "execution_count": null,
   "metadata": {},
   "outputs": [],
   "source": [
    "stdev = [i['stdev'] for i in results.values()]\n",
    "\n",
    "fig,ax = plt.subplots(figsize=(15,8))\n",
    "\n",
    "plt.plot(np.linspace(1,len(stdev),len(stdev)),\n",
    "         stdev,\n",
    "         label=\"Standard deviation\")\n",
    "\n",
    "plt.xlabel(\"Generation\")\n",
    "plt.ylabel(\"Standard deviation\")\n",
    "\n",
    "plt.legend()\n",
    "\n",
    "plt.xticks(np.linspace(1,len(stdev),len(stdev)))\n",
    "\n",
    "plt.savefig(\"figures/stdev.png\")\n",
    "\n",
    "plt.plot()"
   ]
  },
  {
   "cell_type": "code",
   "execution_count": null,
   "metadata": {},
   "outputs": [],
   "source": []
  },
  {
   "cell_type": "code",
   "execution_count": null,
   "metadata": {},
   "outputs": [],
   "source": []
  },
  {
   "cell_type": "code",
   "execution_count": null,
   "metadata": {},
   "outputs": [],
   "source": []
  },
  {
   "cell_type": "code",
   "execution_count": null,
   "metadata": {},
   "outputs": [],
   "source": []
  },
  {
   "cell_type": "code",
   "execution_count": null,
   "metadata": {},
   "outputs": [],
   "source": []
  },
  {
   "cell_type": "code",
   "execution_count": null,
   "metadata": {},
   "outputs": [],
   "source": []
  }
 ],
 "metadata": {
  "kernelspec": {
   "display_name": "Python 3",
   "language": "python",
   "name": "python3"
  },
  "language_info": {
   "codemirror_mode": {
    "name": "ipython",
    "version": 3
   },
   "file_extension": ".py",
   "mimetype": "text/x-python",
   "name": "python",
   "nbconvert_exporter": "python",
   "pygments_lexer": "ipython3",
   "version": "3.6.9"
  }
 },
 "nbformat": 4,
 "nbformat_minor": 4
}
