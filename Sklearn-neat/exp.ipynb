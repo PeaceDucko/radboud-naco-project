{
 "cells": [
  {
   "cell_type": "code",
   "execution_count": 1,
   "id": "91695ff6-b031-439a-9ced-833ccb420cb1",
   "metadata": {},
   "outputs": [],
   "source": [
    "import sys\n",
    "import os\n",
    "\n",
    "from matplotlib import pyplot as plt\n",
    "# from sklearn.datasets import make_classification\n",
    "from sklearn.metrics import classification_report\n",
    "from sklearn.model_selection import train_test_split\n",
    "from tensorflow.keras.datasets import cifar10\n",
    "from sklearn.preprocessing import OneHotEncoder\n",
    "from tensorflow.keras.utils import to_categorical\n",
    "import numpy as np\n",
    "import cv2\n",
    "import math\n",
    "import sys\n",
    "import logging\n",
    "from io import StringIO \n",
    "import re\n",
    "from arg_parse import *\n",
    "from sklearn.model_selection import StratifiedShuffleSplit\n",
    "import seaborn as sns\n",
    "import contextlib\n",
    "import datetime\n",
    "\n",
    "logging.getLogger('matplotlib.font_manager').disabled = True\n",
    "\n",
    "import seaborn as sns\n",
    "\n",
    "sns.set_style('whitegrid')"
   ]
  },
  {
   "cell_type": "code",
   "execution_count": 2,
   "id": "cdba4f2e-a725-4717-a573-b89e1a2fb447",
   "metadata": {},
   "outputs": [],
   "source": [
    "sys.path.append(os.getcwd()+\"/Sklearn-neat\")\n",
    "\n",
    "import neat\n",
    "from neat import math_util\n",
    "from neat.puissance import Puissance \n",
    "\n",
    "from neuro_evolution import NEATClassifier"
   ]
  },
  {
   "cell_type": "code",
   "execution_count": 3,
   "id": "36aa438d-a54e-412b-9e8c-d1aae856ef0f",
   "metadata": {},
   "outputs": [],
   "source": [
    "now = datetime.datetime.now() # current date and time\n",
    "time = now.strftime(\"%d.%m_%H.%M\")"
   ]
  },
  {
   "cell_type": "code",
   "execution_count": 4,
   "id": "e0ad7ca6-3dbd-4555-adf0-97dc1efd34bb",
   "metadata": {},
   "outputs": [],
   "source": [
    "output_folder = \"../outputs/output_\"+time"
   ]
  },
  {
   "cell_type": "code",
   "execution_count": 5,
   "id": "553f0981-1314-4eff-ae74-01bb07e4e384",
   "metadata": {},
   "outputs": [
    {
     "name": "stdout",
     "output_type": "stream",
     "text": [
      "Current working directory: /home/sram/radboud-naco-project/outputs/output_09.06_21.31\n"
     ]
    }
   ],
   "source": [
    "fig_loc = \"figures/\"\n",
    "\n",
    "if not os.path.exists(output_folder):\n",
    "    os.makedirs(output_folder)\n",
    "    \n",
    "os.chdir(output_folder)\n",
    "    \n",
    "print(\"Current working directory: {}\".format(os.getcwd()))"
   ]
  },
  {
   "cell_type": "code",
   "execution_count": 6,
   "id": "316dde04-e403-4e76-8810-ec6a14acfa8b",
   "metadata": {},
   "outputs": [],
   "source": [
    "logfile = open('output.txt', 'w')\n",
    "\n",
    "original_stderr = sys.stderr\n",
    "original_stdout = sys.stdout"
   ]
  },
  {
   "cell_type": "code",
   "execution_count": null,
   "id": "73b02f94-2454-4d96-837d-50141c8cc298",
   "metadata": {},
   "outputs": [],
   "source": [
    "args.population_size = 10\n",
    "args.fitness_limit = 0.75\n",
    "args.generations = 8"
   ]
  },
  {
   "cell_type": "code",
   "execution_count": null,
   "id": "825a9291-dcc6-48f7-8b9d-58d7ac4f9e27",
   "metadata": {},
   "outputs": [],
   "source": [
    "class Tee(object):\n",
    "    def __init__(self, *files):\n",
    "        self.files = files\n",
    "    def write(self, obj):\n",
    "        for f in self.files:\n",
    "            f.write(obj)\n",
    "            f.flush() # If you want the output to be visible immediately\n",
    "    def flush(self) :\n",
    "        for f in self.files:\n",
    "            f.flush()"
   ]
  },
  {
   "cell_type": "code",
   "execution_count": null,
   "id": "94c6d6d4-fc75-457f-828d-9f59a7086b5b",
   "metadata": {},
   "outputs": [],
   "source": [
    "root = logging.getLogger()\n",
    "root.setLevel(logging.DEBUG)\n",
    "\n",
    "handler = logging.StreamHandler(sys.stdout)\n",
    "handler.setLevel(logging.DEBUG)\n",
    "formatter = logging.Formatter('%(asctime)s - %(name)s - %(levelname)s - %(message)s')\n",
    "handler.setFormatter(formatter)\n",
    "root.addHandler(handler)"
   ]
  },
  {
   "cell_type": "code",
   "execution_count": null,
   "id": "9bcc7e22-8215-4842-8d64-043dbdab937f",
   "metadata": {},
   "outputs": [],
   "source": [
    "# class Capturing(list):\n",
    "#     def __enter__(self):\n",
    "#         self._stdout = sys.stdout\n",
    "#         sys.stdout = self._stringio = open('output.txt','wt')\n",
    "#         return self\n",
    "#     def __exit__(self, *args):\n",
    "#         self.extend(self._stringio.getvalue().splitlines())\n",
    "#         print(self)\n",
    "\n",
    "#         del self._stringio    # free up some memory\n",
    "#         sys.stdout = self._stdout"
   ]
  },
  {
   "cell_type": "code",
   "execution_count": null,
   "id": "a1d4fc26-9b72-44c8-9178-8fa46d2487bf",
   "metadata": {},
   "outputs": [],
   "source": [
    "(x_train, y_train), (x_test, y_test) = cifar10.load_data()\n",
    "\n",
    "X = np.append(x_train,x_test).reshape(60000,32,32,3)\n",
    "y = np.append(y_train,y_test).reshape(60000,1)\n",
    "\n",
    "assert X.shape == (60000, 32, 32, 3)\n",
    "assert y.shape == (60000, 1)"
   ]
  },
  {
   "cell_type": "code",
   "execution_count": null,
   "id": "9d8333cd-353f-4341-9935-adb54222a5bb",
   "metadata": {},
   "outputs": [],
   "source": [
    "#Preprocess the data\n",
    "X = X.astype('float32')\n",
    "X /= 255"
   ]
  },
  {
   "cell_type": "code",
   "execution_count": null,
   "id": "19384618-a2e7-4382-9f23-4a15a3d1fe79",
   "metadata": {},
   "outputs": [],
   "source": [
    "sss = StratifiedShuffleSplit(n_splits=5, \n",
    "                             train_size=args.train_size, \n",
    "                             test_size=args.test_size,\n",
    "                             random_state=0)\n",
    "\n",
    "for train_index, test_index in sss.split(X, y):\n",
    "    #print(\"TRAIN:\", train_index, \"TEST:\", test_index)\n",
    "    X_train, X_test = X[train_index], X[test_index]\n",
    "    y_train, y_test = y[train_index], y[test_index]\n",
    "    \n",
    "print(X_train.shape)\n",
    "print(y_train.shape)\n",
    "\n",
    "print(\"---\")\n",
    "\n",
    "print(X_test.shape)\n",
    "print(y_test.shape)"
   ]
  },
  {
   "cell_type": "code",
   "execution_count": null,
   "id": "c146c079-8d46-4679-a022-331d69972270",
   "metadata": {},
   "outputs": [],
   "source": [
    "def find_metric_in_output(output, string):    \n",
    "    result = re.findall(r\"\\b\"+string+r\" ([0-9]+\\.[0-9]+)\\b\", str(output))\n",
    "    \n",
    "    result = np.array(result).astype('float')\n",
    "        \n",
    "    return result "
   ]
  },
  {
   "cell_type": "code",
   "execution_count": null,
   "id": "4f562801-cbe3-400c-929f-4a2bb423d832",
   "metadata": {},
   "outputs": [],
   "source": [
    "def find_puissance_in_output(output):    \n",
    "    result = re.findall(r\"\\b(?<=Unique puissance values: {).*?(?=})\\b\", str(output))    \n",
    "    return result "
   ]
  },
  {
   "cell_type": "code",
   "execution_count": null,
   "id": "45c7798d-1081-4e33-b569-606e5bc13697",
   "metadata": {},
   "outputs": [],
   "source": [
    "X_train_fl = X_train.reshape((X_train.shape[0], -1))\n",
    "X_test_fl = X_test.reshape((X_test.shape[0], -1))\n",
    "\n",
    "try:\n",
    "    puissance_config = Puissance()\n",
    "\n",
    "    clf = NEATClassifier(number_of_generations=args.generations,\n",
    "                         fitness_threshold=args.fitness_limit,\n",
    "                         pop_size=args.population_size,\n",
    "                         puissance_config = puissance_config)\n",
    "    \n",
    "    logging.info(\"Running NEAT puissance\")\n",
    "    \n",
    "except:\n",
    "    clf = NEATClassifier(number_of_generations=args.generations,\n",
    "                         fitness_threshold=args.fitness_limit,\n",
    "                         pop_size=args.population_size)\n",
    "    \n",
    "    logging.info(\"Running NEAT\")"
   ]
  },
  {
   "cell_type": "code",
   "execution_count": null,
   "id": "0d41b2d1-6834-4483-a0b7-6401966a6799",
   "metadata": {},
   "outputs": [],
   "source": [
    "# for i in range(3):\n",
    "#     logging.info(\"*** Running generation \"+str(i)+\" ***\")\n",
    "\n",
    "sys.stdout = Tee(sys.stdout, logfile)\n",
    "sys.stderr = sys.stdout\n",
    "    \n",
    "neat_genome = clf.fit(X_train_fl, y_train.ravel())\n",
    "\n",
    "sys.stdout = original_stdout\n",
    "sys.stderr = original_stderr\n",
    "logfile.close()\n",
    "# sys.stdout.close()\n",
    "        \n",
    "#     curr_fitness = find_metric_in_output(output, \"Fitness:\")\n",
    "#     curr_popavgfit = find_metric_in_output(output, \"Population's average f3itness:\")\n",
    "#     curr_stdev = find_metric_in_output(output, \"stdev:\")\n",
    "        \n",
    "#     print(\"Fitness: {}\".format(curr_fitness))\n",
    "#     print(\"Population's average fitness: {}\".format(curr_popavgfit))\n",
    "#     print(\"Standard deviation: {}\".format(curr_stdev))\n",
    "\n",
    "#     print(\"---\")\n",
    "#     if curr_fitness > best_fitness:\n",
    "#         best_fitness = curr_fitness\n",
    "        \n",
    "#     print(\"Best fitness: {}\".format(best_fitness))\n",
    "    \n",
    "    \n",
    "# #     print(output)\n",
    "#     print(output)\n",
    "    \n",
    "#     results[i] = {\n",
    "#         \"fitness\":curr_fitness,\n",
    "#         \"pop_avg_fitness\":curr_popavgfit,\n",
    "#         \"stdev\":curr_stdev   \n",
    "#     }\n",
    "\n",
    "#     print(\"---\\n\")"
   ]
  },
  {
   "cell_type": "code",
   "execution_count": null,
   "id": "6f242279-865b-4546-96cb-0e00c0fab477",
   "metadata": {},
   "outputs": [],
   "source": [
    "output = open(\"output.txt\", \"r\").read()"
   ]
  },
  {
   "cell_type": "code",
   "execution_count": null,
   "id": "f22726f1-8004-43a0-b94c-7dd8eac6d5c3",
   "metadata": {},
   "outputs": [],
   "source": [
    "gen_time = find_metric_in_output(output, \"Generation time:\")\n",
    "cum_gen_time = np.array([])\n",
    "\n",
    "for i in range(1,len(gen_time)+1):\n",
    "    cum_gen_time = np.append(cum_gen_time, gen_time[:i].sum())\n",
    "    \n",
    "print(gen_time)\n",
    "print(cum_gen_time)"
   ]
  },
  {
   "cell_type": "code",
   "execution_count": null,
   "id": "8d7babc7-08f8-4e5a-a896-3b76d37ea437",
   "metadata": {},
   "outputs": [],
   "source": [
    "results = {}\n",
    "\n",
    "results['best_fitness'] = find_metric_in_output(output, \"Best fitness:\")\n",
    "results['avg_adj_fitness'] = find_metric_in_output(output, \"Average adjusted fitness:\")\n",
    "results['pop_avg_fitness'] = find_metric_in_output(output, \"Population's average fitness:\")\n",
    "results['gen_time'] = gen_time\n",
    "results['cum_gen_time'] = cum_gen_time\n",
    "results['stdev'] = find_metric_in_output(output, \"stdev:\")\n",
    "# metrics['puissance'] = puissance = find_puissance_in_output(output)\n",
    "\n",
    "assert len(results['best_fitness']) == \\\n",
    "        len(results['avg_adj_fitness']) == \\\n",
    "        len(results['pop_avg_fitness']) == \\\n",
    "        len(results['gen_time']) == \\\n",
    "        len(results['stdev'])"
   ]
  },
  {
   "cell_type": "code",
   "execution_count": null,
   "id": "41257f5b-414c-407b-95c7-1b4eff259dad",
   "metadata": {},
   "outputs": [],
   "source": [
    "print(results)"
   ]
  },
  {
   "cell_type": "code",
   "execution_count": null,
   "id": "34e2fc3b-ff69-406f-a659-61592deb927d",
   "metadata": {},
   "outputs": [],
   "source": [
    "y_pred = neat_genome.predict(X_test_fl)\n",
    "    \n",
    "print(classification_report(y_test.ravel(), y_pred.ravel()))"
   ]
  },
  {
   "cell_type": "code",
   "execution_count": null,
   "id": "193267fa-65e9-4c10-880a-a00d82dff03f",
   "metadata": {},
   "outputs": [],
   "source": [
    "# puissance_config = Puissance()\n",
    "\n",
    "# clf = NEATClassifier(number_of_generations=3,\n",
    "#                      fitness_threshold=0.5,\n",
    "#                      pop_size=5,\n",
    "#                      puissance_config = puissance_config)"
   ]
  },
  {
   "cell_type": "code",
   "execution_count": null,
   "id": "65c7e69b-0319-4785-86df-d3374d469777",
   "metadata": {},
   "outputs": [],
   "source": [
    "# for i in range(args.generations):\n",
    "#     logging.info(\"*** Running generation \"+str(i)+\" ***\")\n",
    "#     with Capturing() as output:\n",
    "#         neat_genome = clf.fit(X_train_fl, y_train.ravel())\n",
    "        \n",
    "#     curr_fitness = find_metric_in_output(output, \"Fitness:\")\n",
    "#     curr_popavgfit = find_metric_in_output(output, \"Population's average fitness:\")\n",
    "#     curr_stdev = find_metric_in_output(output, \"stdev:\")\n",
    "        \n",
    "#     print(\"Fitness: {}\".format(curr_fitness))\n",
    "#     print(\"Population's average fitness: {}\".format(curr_popavgfit))\n",
    "#     print(\"Standard deviation: {}\".format(curr_stdev))\n",
    "\n",
    "#     print(\"---\")\n",
    "#     if curr_fitness > best_fitness:\n",
    "#         best_fitness = curr_fitness\n",
    "        \n",
    "#     print(\"Best fitness: {}\".format(best_fitness))\n",
    "    \n",
    "#     print(find_metric_in_output(output, \"Generation time:\"))\n",
    "    \n",
    "#     results[i] = {\n",
    "#         \"fitness\":curr_fitness,\n",
    "#         \"pop_avg_fitness\":curr_popavgfit,\n",
    "#         \"stdev\":curr_stdev   \n",
    "#     }\n",
    "\n",
    "#     print(\"---\\n\")"
   ]
  },
  {
   "cell_type": "code",
   "execution_count": null,
   "id": "2cb8aa6a-73d1-4fc4-b2e0-350b5bea4300",
   "metadata": {},
   "outputs": [],
   "source": [
    "np.linspace(1,args.generations,args.generations)"
   ]
  },
  {
   "cell_type": "code",
   "execution_count": null,
   "id": "0c5f1cce-6bff-4b9b-b499-db482a91568f",
   "metadata": {},
   "outputs": [],
   "source": [
    "def plot_results(plots, xlabel, ylabel, fig_name):\n",
    "    fig,ax = plt.subplots(figsize=(15,8))\n",
    "\n",
    "    for i in range(0,len(plots)):\n",
    "        plt.plot(plots[i]['x'],\n",
    "                 plots[i]['y'],\n",
    "                 label = plots[i]['label'])\n",
    "\n",
    "    plt.xlabel(xlabel)\n",
    "    plt.ylabel(ylabel)\n",
    "\n",
    "    plt.legend()\n",
    "\n",
    "    plt.xticks(np.arange(0, args.generations, math.ceil(args.generations/100)))\n",
    "\n",
    "    plt.savefig(fig_loc+fig_name)\n",
    "\n",
    "    plt.plot()"
   ]
  },
  {
   "cell_type": "code",
   "execution_count": null,
   "id": "0edc5b2c-24ba-45f6-b4ea-2fee4e1374fa",
   "metadata": {},
   "outputs": [],
   "source": [
    "plots = {}\n",
    "\n",
    "plots[0] = {\n",
    "    \"x\":np.linspace(0,args.generations,args.generations),\n",
    "    \"y\":results['avg_adj_fitness'],\n",
    "    \"label\":\"Average adjusted fitness\"\n",
    "}\n",
    "\n",
    "plots[1] = {\n",
    "    \"x\":np.linspace(0,args.generations,args.generations),\n",
    "    \"y\":results['pop_avg_fitness'],\n",
    "    \"label\":\"Population's average fitness\"  \n",
    "}\n",
    "\n",
    "plots[2] = {\n",
    "    \"x\":np.linspace(0,args.generations,args.generations),\n",
    "    \"y\":results['best_fitness'],\n",
    "    \"label\":\"Best fitness\"  \n",
    "}\n",
    "\n",
    "plot_results(plots, \"Generation\", \"Fitness\", \"fitness.png\")"
   ]
  },
  {
   "cell_type": "code",
   "execution_count": null,
   "id": "b5fc2e2f-99cf-44f0-9681-d7b0790bd413",
   "metadata": {},
   "outputs": [],
   "source": [
    "plots = {}\n",
    "\n",
    "plots[0] = {\n",
    "    \"x\":np.linspace(0,args.generations,args.generations),\n",
    "    \"y\":results['stdev'],\n",
    "    \"label\":\"Standard deviation\"\n",
    "}\n",
    "\n",
    "plot_results(plots, \"Generation\", \"Standard deviation\", \"stdev.png\")"
   ]
  },
  {
   "cell_type": "code",
   "execution_count": null,
   "id": "38a914f8-6fa7-4061-b860-9ace4820d233",
   "metadata": {},
   "outputs": [],
   "source": [
    "plots = {}\n",
    "\n",
    "plots[0] = {\n",
    "    \"x\":np.linspace(0,args.generations,args.generations),\n",
    "    \"y\":results['gen_time'],\n",
    "    \"label\":\"Generation time\"\n",
    "}\n",
    "\n",
    "plot_results(plots, \"Generation\", \"Generation time\", \"gen_time.png\")"
   ]
  },
  {
   "cell_type": "code",
   "execution_count": null,
   "id": "5afad075-9d2b-4536-ad6e-af702be50236",
   "metadata": {},
   "outputs": [],
   "source": [
    "plots = {}\n",
    "\n",
    "plots[0] = {\n",
    "    \"x\":np.linspace(0,args.generations,args.generations),\n",
    "    \"y\":results['cum_gen_time'],\n",
    "    \"label\":\"Cumulative generation time (seconds)\"\n",
    "}\n",
    "\n",
    "plot_results(plots, \"Generation\", \"Cumulative generation time (seconds)\", \"cum_gen_time.png\")"
   ]
  },
  {
   "cell_type": "code",
   "execution_count": null,
   "id": "f9d4707c-1346-452e-9a63-16db381771f0",
   "metadata": {},
   "outputs": [],
   "source": []
  }
 ],
 "metadata": {
  "kernelspec": {
   "display_name": "Python 3",
   "language": "python",
   "name": "python3"
  },
  "language_info": {
   "codemirror_mode": {
    "name": "ipython",
    "version": 3
   },
   "file_extension": ".py",
   "mimetype": "text/x-python",
   "name": "python",
   "nbconvert_exporter": "python",
   "pygments_lexer": "ipython3",
   "version": "3.6.9"
  }
 },
 "nbformat": 4,
 "nbformat_minor": 5
}
