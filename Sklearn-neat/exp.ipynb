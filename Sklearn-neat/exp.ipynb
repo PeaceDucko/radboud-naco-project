{
 "cells": [
  {
   "cell_type": "code",
   "execution_count": 23,
   "id": "91695ff6-b031-439a-9ced-833ccb420cb1",
   "metadata": {},
   "outputs": [],
   "source": [
    "\"\"\"\n",
    "============================\n",
    "Plotting NEAT Classifier\n",
    "============================\n",
    "\n",
    "An example plot of :class:`neuro_evolution._neat.NEATClassifier`\n",
    "\"\"\"\n",
    "import sys\n",
    "import os\n",
    "sys.path.append(os.getcwd()+\"/Sklearn-neat\")\n",
    "\n",
    "from matplotlib import pyplot as plt\n",
    "# from sklearn.datasets import make_classification\n",
    "from sklearn.metrics import classification_report\n",
    "from sklearn.model_selection import train_test_split\n",
    "from neuro_evolution import NEATClassifier\n",
    "from tensorflow.keras.datasets import cifar10\n",
    "from sklearn.preprocessing import OneHotEncoder\n",
    "from tensorflow.keras.utils import to_categorical\n",
    "import numpy as np\n",
    "import cv2\n",
    "import sys\n",
    "import logging\n",
    "from io import StringIO \n",
    "import re\n",
    "from arg_parse import *\n",
    "from sklearn.model_selection import StratifiedShuffleSplit\n",
    "\n",
    "logging.getLogger('matplotlib.font_manager').disabled = True"
   ]
  },
  {
   "cell_type": "code",
   "execution_count": 2,
   "id": "1f3d5e0e-06bb-417e-a1f5-c511a4e46245",
   "metadata": {},
   "outputs": [],
   "source": [
    "sys.path.append(os.getcwd()+\"/Sklearn-neat\")\n",
    "\n",
    "import neat\n",
    "from neat import math_util\n",
    "from neat.puissance import Puissance "
   ]
  },
  {
   "cell_type": "code",
   "execution_count": 3,
   "id": "73b02f94-2454-4d96-837d-50141c8cc298",
   "metadata": {},
   "outputs": [],
   "source": [
    "args.population_size = 5\n",
    "args.fitness_limit = 0.5\n",
    "args.generations = 6"
   ]
  },
  {
   "cell_type": "code",
   "execution_count": 4,
   "id": "94c6d6d4-fc75-457f-828d-9f59a7086b5b",
   "metadata": {},
   "outputs": [],
   "source": [
    "root = logging.getLogger()\n",
    "root.setLevel(logging.DEBUG)\n",
    "\n",
    "handler = logging.StreamHandler(sys.stdout)\n",
    "handler.setLevel(logging.DEBUG)\n",
    "formatter = logging.Formatter('%(asctime)s - %(name)s - %(levelname)s - %(message)s')\n",
    "handler.setFormatter(formatter)\n",
    "root.addHandler(handler)"
   ]
  },
  {
   "cell_type": "code",
   "execution_count": 5,
   "id": "9bcc7e22-8215-4842-8d64-043dbdab937f",
   "metadata": {},
   "outputs": [],
   "source": [
    "class Capturing(list):\n",
    "    def __enter__(self):\n",
    "        self._stdout = sys.stdout\n",
    "        sys.stdout = self._stringio = StringIO()\n",
    "        return self\n",
    "    def __exit__(self, *args):\n",
    "        self.extend(self._stringio.getvalue().splitlines())\n",
    "        del self._stringio    # free up some memory\n",
    "        sys.stdout = self._stdout"
   ]
  },
  {
   "cell_type": "code",
   "execution_count": 6,
   "id": "a1d4fc26-9b72-44c8-9178-8fa46d2487bf",
   "metadata": {},
   "outputs": [],
   "source": [
    "(x_train, y_train), (x_test, y_test) = cifar10.load_data()\n",
    "\n",
    "X = np.append(x_train,x_test).reshape(60000,32,32,3)\n",
    "y = np.append(y_train,y_test).reshape(60000,1)\n",
    "\n",
    "assert X.shape == (60000, 32, 32, 3)\n",
    "assert y.shape == (60000, 1)"
   ]
  },
  {
   "cell_type": "code",
   "execution_count": 7,
   "id": "9d8333cd-353f-4341-9935-adb54222a5bb",
   "metadata": {},
   "outputs": [],
   "source": [
    "#Preprocess the data\n",
    "X = X.astype('float32')\n",
    "X /= 255"
   ]
  },
  {
   "cell_type": "code",
   "execution_count": 8,
   "id": "19384618-a2e7-4382-9f23-4a15a3d1fe79",
   "metadata": {},
   "outputs": [
    {
     "name": "stdout",
     "output_type": "stream",
     "text": [
      "(12, 32, 32, 3)\n",
      "(12, 1)\n",
      "---\n",
      "(12, 32, 32, 3)\n",
      "(12, 1)\n"
     ]
    }
   ],
   "source": [
    "sss = StratifiedShuffleSplit(n_splits=5, \n",
    "                             train_size=args.train_size, # 900 train \n",
    "                             test_size=args.test_size, # 180 test\n",
    "                             random_state=0)\n",
    "\n",
    "for train_index, test_index in sss.split(X, y):\n",
    "    #print(\"TRAIN:\", train_index, \"TEST:\", test_index)\n",
    "    X_train, X_test = X[train_index], X[test_index]\n",
    "    y_train, y_test = y[train_index], y[test_index]\n",
    "    \n",
    "print(X_train.shape)\n",
    "print(y_train.shape)\n",
    "\n",
    "print(\"---\")\n",
    "\n",
    "print(X_test.shape)\n",
    "print(y_test.shape)"
   ]
  },
  {
   "cell_type": "code",
   "execution_count": 9,
   "id": "c146c079-8d46-4679-a022-331d69972270",
   "metadata": {},
   "outputs": [],
   "source": [
    "def find_metric_in_output(output, string):    \n",
    "    result = re.findall(r\"\\b\"+string+r\" ([0-9]+\\.[0-9]+)\\b\", str(output))\n",
    "    result = np.array(result).astype('float')\n",
    "    result = result[0]\n",
    "    \n",
    "    return result "
   ]
  },
  {
   "cell_type": "code",
   "execution_count": 12,
   "id": "45c7798d-1081-4e33-b569-606e5bc13697",
   "metadata": {},
   "outputs": [],
   "source": [
    "X_train_fl = X_train.reshape((X_train.shape[0], -1))\n",
    "X_test_fl = X_test.reshape((X_test.shape[0], -1))\n",
    "\n",
    "clf = NEATClassifier(number_of_generations=1,\n",
    "                     fitness_threshold=args.fitness_limit,\n",
    "                     pop_size=args.population_size)\n",
    "\n",
    "results = {}\n",
    "best_fitness = 0"
   ]
  },
  {
   "cell_type": "code",
   "execution_count": 14,
   "id": "0d41b2d1-6834-4483-a0b7-6401966a6799",
   "metadata": {},
   "outputs": [],
   "source": [
    "# for i in range(args.generations):\n",
    "#     logging.info(\"*** Running generation \"+str(i)+\" ***\")\n",
    "#     with Capturing() as output:\n",
    "#         neat_genome = clf.fit(X_train_fl, y_train.ravel())\n",
    "        \n",
    "#     curr_fitness = find_metric_in_output(output, \"Fitness:\")\n",
    "#     curr_popavgfit = find_metric_in_output(output, \"Population's average fitness:\")\n",
    "#     curr_stdev = find_metric_in_output(output, \"stdev:\")\n",
    "        \n",
    "#     print(\"Fitness: {}\".format(curr_fitness))\n",
    "#     print(\"Population's average fitness: {}\".format(curr_popavgfit))\n",
    "#     print(\"Standard deviation: {}\".format(curr_stdev))\n",
    "\n",
    "#     print(\"---\")\n",
    "#     if curr_fitness > best_fitness:\n",
    "#         best_fitness = curr_fitness\n",
    "        \n",
    "#     print(\"Best fitness: {}\".format(best_fitness))\n",
    "    \n",
    "#     results[i] = {\n",
    "#         \"fitness\":curr_fitness,\n",
    "#         \"pop_avg_fitness\":curr_popavgfit,\n",
    "#         \"stdev\":curr_stdev   \n",
    "#     }\n",
    "\n",
    "#     print(\"---\\n\")"
   ]
  },
  {
   "cell_type": "code",
   "execution_count": 15,
   "id": "34e2fc3b-ff69-406f-a659-61592deb927d",
   "metadata": {},
   "outputs": [
    {
     "ename": "NameError",
     "evalue": "name 'neat_genome' is not defined",
     "output_type": "error",
     "traceback": [
      "\u001b[0;31m---------------------------------------------------------------------------\u001b[0m",
      "\u001b[0;31mNameError\u001b[0m                                 Traceback (most recent call last)",
      "\u001b[0;32m<ipython-input-15-de67e96d9902>\u001b[0m in \u001b[0;36m<module>\u001b[0;34m\u001b[0m\n\u001b[0;32m----> 1\u001b[0;31m \u001b[0my_pred\u001b[0m \u001b[0;34m=\u001b[0m \u001b[0mneat_genome\u001b[0m\u001b[0;34m.\u001b[0m\u001b[0mpredict\u001b[0m\u001b[0;34m(\u001b[0m\u001b[0mX_test_fl\u001b[0m\u001b[0;34m)\u001b[0m\u001b[0;34m\u001b[0m\u001b[0;34m\u001b[0m\u001b[0m\n\u001b[0m\u001b[1;32m      2\u001b[0m \u001b[0;34m\u001b[0m\u001b[0m\n\u001b[1;32m      3\u001b[0m \u001b[0mprint\u001b[0m\u001b[0;34m(\u001b[0m\u001b[0mclassification_report\u001b[0m\u001b[0;34m(\u001b[0m\u001b[0my_test\u001b[0m\u001b[0;34m.\u001b[0m\u001b[0mravel\u001b[0m\u001b[0;34m(\u001b[0m\u001b[0;34m)\u001b[0m\u001b[0;34m,\u001b[0m \u001b[0my_pred\u001b[0m\u001b[0;34m.\u001b[0m\u001b[0mravel\u001b[0m\u001b[0;34m(\u001b[0m\u001b[0;34m)\u001b[0m\u001b[0;34m)\u001b[0m\u001b[0;34m)\u001b[0m\u001b[0;34m\u001b[0m\u001b[0;34m\u001b[0m\u001b[0m\n",
      "\u001b[0;31mNameError\u001b[0m: name 'neat_genome' is not defined"
     ]
    }
   ],
   "source": [
    "y_pred = neat_genome.predict(X_test_fl)\n",
    "    \n",
    "print(classification_report(y_test.ravel(), y_pred.ravel()))"
   ]
  },
  {
   "cell_type": "code",
   "execution_count": null,
   "id": "a7843273-a943-487f-aaaa-768a4b50c512",
   "metadata": {},
   "outputs": [],
   "source": [
    "fitness = [i['fitness'] for i in results.values()]\n",
    "pop_avg_fitness = [i['pop_avg_fitness'] for i in results.values()]\n",
    "\n",
    "fig,ax = plt.subplots(figsize=(15,8))\n",
    "\n",
    "plt.plot(np.linspace(1,args.generations,args.generations),\n",
    "         fitness,\n",
    "         label=\"Fitness\")\n",
    "plt.plot(np.linspace(1,args.generations,args.generations),\n",
    "         pop_avg_fitness,\n",
    "         label=\"Population's average fitness\")\n",
    "\n",
    "plt.xlabel(\"Generation\")\n",
    "plt.ylabel(\"Fitness\")\n",
    "\n",
    "plt.legend()\n",
    "\n",
    "plt.xticks(np.linspace(1,args.generations,args.generations))\n",
    "\n",
    "plt.savefig(\"../figures/fitness.png\")\n",
    "\n",
    "plt.plot()"
   ]
  },
  {
   "cell_type": "code",
   "execution_count": null,
   "id": "ea8871ae-00cf-4140-97d3-84bbf1288c83",
   "metadata": {},
   "outputs": [],
   "source": [
    "stdev = [i['stdev'] for i in results.values()]\n",
    "\n",
    "fig,ax = plt.subplots(figsize=(15,8))\n",
    "\n",
    "plt.plot(np.linspace(1,args.generations,args.generations),\n",
    "         stdev,\n",
    "         label=\"Standard deviation\")\n",
    "\n",
    "plt.xlabel(\"Generation\")\n",
    "plt.ylabel(\"Standard deviation\")\n",
    "\n",
    "plt.legend()\n",
    "\n",
    "plt.xticks(np.linspace(1,args.generations,args.generations))\n",
    "\n",
    "plt.savefig(\"../figures/stdev.png\")\n",
    "\n",
    "plt.plot()"
   ]
  },
  {
   "cell_type": "code",
   "execution_count": 20,
   "id": "193267fa-65e9-4c10-880a-a00d82dff03f",
   "metadata": {},
   "outputs": [],
   "source": [
    "puissance_config = Puissance()\n",
    "\n",
    "clf = NEATClassifier(number_of_generations=3,\n",
    "                     fitness_threshold=0.5,\n",
    "                     pop_size=5,\n",
    "                     puissance_config = puissance_config)"
   ]
  },
  {
   "cell_type": "code",
   "execution_count": null,
   "id": "65c7e69b-0319-4785-86df-d3374d469777",
   "metadata": {},
   "outputs": [
    {
     "name": "stdout",
     "output_type": "stream",
     "text": [
      "2021-06-08 15:07:39,152 - root - INFO - *** Running generation 0 ***\n",
      "Fitness: 0.16666666666666666\n",
      "Population's average fitness: 0.11667\n",
      "Standard deviation: 0.04082\n",
      "---\n",
      "Best fitness: 0.16666666666666666\n",
      "---\n",
      "\n",
      "2021-06-08 15:11:24,166 - root - INFO - *** Running generation 1 ***\n"
     ]
    }
   ],
   "source": [
    "results = {}\n",
    "best_fitness = 0\n",
    "\n",
    "for i in range(args.generations):\n",
    "    logging.info(\"*** Running generation \"+str(i)+\" ***\")\n",
    "    with Capturing() as output:\n",
    "        %timeit neat_genome = clf.fit(X_train_fl, y_train.ravel())\n",
    "        \n",
    "    curr_fitness = find_metric_in_output(output, \"Fitness:\")\n",
    "    curr_popavgfit = find_metric_in_output(output, \"Population's average fitness:\")\n",
    "    curr_stdev = find_metric_in_output(output, \"stdev:\")\n",
    "        \n",
    "    print(\"Fitness: {}\".format(curr_fitness))\n",
    "    print(\"Population's average fitness: {}\".format(curr_popavgfit))\n",
    "    print(\"Standard deviation: {}\".format(curr_stdev))\n",
    "\n",
    "    print(\"---\")\n",
    "    if curr_fitness > best_fitness:\n",
    "        best_fitness = curr_fitness\n",
    "        \n",
    "    print(\"Best fitness: {}\".format(best_fitness))\n",
    "    \n",
    "    results[i] = {\n",
    "        \"fitness\":curr_fitness,\n",
    "        \"pop_avg_fitness\":curr_popavgfit,\n",
    "        \"stdev\":curr_stdev   \n",
    "    }\n",
    "\n",
    "    print(\"---\\n\")"
   ]
  },
  {
   "cell_type": "code",
   "execution_count": 24,
   "id": "d861a4a8-57ac-43fc-b38a-ffa6ed38ecb9",
   "metadata": {},
   "outputs": [
    {
     "data": {
      "text/plain": [
       "[]"
      ]
     },
     "execution_count": 24,
     "metadata": {},
     "output_type": "execute_result"
    },
    {
     "data": {
      "image/png": "[encoded data removed]",
      "text/plain": [
       "<Figure size 1080x576 with 1 Axes>"
      ]
     },
     "metadata": {
      "needs_background": "light"
     },
     "output_type": "display_data"
    }
   ],
   "source": [
    "fitness = [i['fitness'] for i in results.values()]\n",
    "pop_avg_fitness = [i['pop_avg_fitness'] for i in results.values()]\n",
    "\n",
    "fig,ax = plt.subplots(figsize=(15,8))\n",
    "\n",
    "plt.plot(np.linspace(1,args.generations,args.generations),\n",
    "         fitness,\n",
    "         label=\"Fitness\")\n",
    "plt.plot(np.linspace(1,args.generations,args.generations),\n",
    "         pop_avg_fitness,\n",
    "         label=\"Population's average fitness\")\n",
    "\n",
    "plt.xlabel(\"Generation\")\n",
    "plt.ylabel(\"Fitness\")\n",
    "\n",
    "plt.legend()\n",
    "\n",
    "plt.xticks(np.linspace(1,args.generations,args.generations))\n",
    "\n",
    "plt.savefig(\"../figures/fitness.png\")\n",
    "\n",
    "plt.plot()"
   ]
  },
  {
   "cell_type": "code",
   "execution_count": 25,
   "id": "b5fc2e2f-99cf-44f0-9681-d7b0790bd413",
   "metadata": {},
   "outputs": [
    {
     "data": {
      "text/plain": [
       "[]"
      ]
     },
     "execution_count": 25,
     "metadata": {},
     "output_type": "execute_result"
    },
    {
     "data": {
      "image/png": "[encoded data removed]",
      "text/plain": [
       "<Figure size 1080x576 with 1 Axes>"
      ]
     },
     "metadata": {
      "needs_background": "light"
     },
     "output_type": "display_data"
    }
   ],
   "source": [
    "stdev = [i['stdev'] for i in results.values()]\n",
    "\n",
    "fig,ax = plt.subplots(figsize=(15,8))\n",
    "\n",
    "plt.plot(np.linspace(1,args.generations,args.generations),\n",
    "         stdev,\n",
    "         label=\"Standard deviation\")\n",
    "\n",
    "plt.xlabel(\"Generation\")\n",
    "plt.ylabel(\"Standard deviation\")\n",
    "\n",
    "plt.legend()\n",
    "\n",
    "plt.xticks(np.linspace(1,args.generations,args.generations))\n",
    "\n",
    "plt.savefig(\"../figures/stdev.png\")\n",
    "\n",
    "plt.plot()"
   ]
  },
  {
   "cell_type": "code",
   "execution_count": null,
   "id": "38a914f8-6fa7-4061-b860-9ace4820d233",
   "metadata": {},
   "outputs": [],
   "source": []
  }
 ],
 "metadata": {
  "kernelspec": {
   "display_name": "Python 3",
   "language": "python",
   "name": "python3"
  },
  "language_info": {
   "codemirror_mode": {
    "name": "ipython",
    "version": 3
   },
   "file_extension": ".py",
   "mimetype": "text/x-python",
   "name": "python",
   "nbconvert_exporter": "python",
   "pygments_lexer": "ipython3",
   "version": "3.6.9"
  }
 },
 "nbformat": 4,
 "nbformat_minor": 5
}
